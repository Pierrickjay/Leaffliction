{
 "cells": [
  {
   "cell_type": "code",
   "execution_count": 77,
   "metadata": {},
   "outputs": [],
   "source": [
    "import numpy as np\n",
    "from PIL import Image, ImageEnhance\n",
    "from plantcv import plantcv as pcv\n",
    "from plantcv.parallel import WorkflowInputs\n",
    "import cv2\n",
    "import tensorflow as tf\n",
    "from tensorflow.keras.models import Sequential, Model, load_model\n",
    "from tensorflow.keras.layers import experimental, Conv2D, MaxPooling2D, Dense, Flatten\n",
    "import os\n",
    "import argparse\n",
    "\n"
   ]
  },
  {
   "cell_type": "code",
   "execution_count": 2,
   "metadata": {},
   "outputs": [],
   "source": [
    "def loadDataset(path, img_size, batch_size):\n",
    "    return tf.keras.preprocessing.image_dataset_from_directory(\n",
    "        path, \n",
    "        shuffle = True, \n",
    "        image_size = (img_size, img_size), \n",
    "        batch_size = batch_size\n",
    "    )"
   ]
  },
  {
   "cell_type": "code",
   "execution_count": 3,
   "metadata": {},
   "outputs": [],
   "source": [
    "def remove_back(img, size_fill, enhance_val, buffer_size):\n",
    "\timg_img = Image.fromarray(img, mode=\"RGB\")\n",
    "\tcontr_img = ImageEnhance.Contrast(img_img).enhance(enhance_val)\n",
    "\tgray_img = pcv.rgb2gray_lab(rgb_img=np.array(contr_img), channel='a')\n",
    "\tthresh = pcv.threshold.triangle(gray_img=gray_img, object_type=\"dark\", xstep= 100)\n",
    "\tedge_ok = pcv.fill(bin_img=thresh, size=5000)\n",
    "\tmask = pcv.fill(bin_img=pcv.invert(gray_img=edge_ok), size=size_fill)\n",
    "\tcontours, _ = cv2.findContours(mask, cv2.RETR_LIST, cv2.CHAIN_APPROX_SIMPLE)\n",
    "\tmask_with_buffer = mask.copy()\n",
    "\tif (len(contours)):\n",
    "\t\tcv2.drawContours(mask_with_buffer, contours[np.argmax([len(c) for c in contours])], -1, (0, 0, 0), buffer_size)\n",
    "\tif (mask_with_buffer[0,0] == 0 and mask_with_buffer[0,-1] == 0 and mask_with_buffer[0,-1] == 0 and mask_with_buffer[-1,0] == 0):\n",
    "\t\tmask_with_buffer[0:11,0:11] = 255\n",
    "\t\tmask_with_buffer[-11:,-11:] = 255\n",
    "\t\tmask_with_buffer[0:11,-11:] = 255\n",
    "\t\tmask_with_buffer[-11:,0:11] = 255\n",
    "\tmask_with_buffer[0:1,:] = 255\n",
    "\tmask_with_buffer[-1:,:] = 255\n",
    "\tmask_with_buffer[:,0:1] = 255\n",
    "\tmask_with_buffer[:,-1:] = 255\n",
    "\tmask_with_buffer = pcv.fill(bin_img=mask_with_buffer, size=size_fill)\n",
    "\timg_modified = np.ones_like(img) * 255\n",
    "\timg_modified[mask_with_buffer == 0] = img[mask_with_buffer == 0]\n",
    "\treturn img_modified"
   ]
  },
  {
   "cell_type": "code",
   "execution_count": 4,
   "metadata": {},
   "outputs": [],
   "source": [
    "def get_dataset_partition_tf(ds, train_split = 0.85, shuffle = True, shuffle_size = 10000):\n",
    "\tif shuffle:\n",
    "\t\tds = ds.shuffle(shuffle_size, seed = 12)\n",
    "\tlen_train_dataset = int(len(ds) * train_split)\n",
    "\ttrain_dataset = ds.take(len_train_dataset)\n",
    "\tcv_dataset = ds.skip(len_train_dataset)\n",
    "\treturn train_dataset, cv_dataset"
   ]
  },
  {
   "cell_type": "code",
   "execution_count": 6,
   "metadata": {},
   "outputs": [],
   "source": [
    "batch_size = 32\n",
    "epochs = 15\n",
    "path = \"../leaves/images/\"\n",
    "save_dir = \"\"\n",
    "save_name = \"learnings\"\n",
    "img_size = 256\n",
    "input_shape = (batch_size, img_size, img_size, 3)"
   ]
  },
  {
   "cell_type": "code",
   "execution_count": 10,
   "metadata": {},
   "outputs": [],
   "source": [
    "fn = os.listdir(path)"
   ]
  },
  {
   "cell_type": "code",
   "execution_count": 11,
   "metadata": {},
   "outputs": [
    {
     "data": {
      "text/plain": [
       "['Grape_Esca',\n",
       " 'Apple_rust',\n",
       " 'Grape_Black_rot',\n",
       " 'Grape_healthy',\n",
       " 'Apple_healthy',\n",
       " 'Grape_spot',\n",
       " 'Apple_scab',\n",
       " 'Apple_Black_rot']"
      ]
     },
     "execution_count": 11,
     "metadata": {},
     "output_type": "execute_result"
    }
   ],
   "source": [
    "fn"
   ]
  },
  {
   "cell_type": "markdown",
   "metadata": {},
   "source": [
    "str(foldername + \"/\" + fn)"
   ]
  },
  {
   "cell_type": "code",
   "execution_count": 136,
   "metadata": {},
   "outputs": [],
   "source": [
    "img_path_list = [[[foldername, fn, '/'.join([elem for elem in foldername.split(\"/\") if elem != \"..\" and elem != \".\"])] for fn in filenames] for foldername, subdirectory, filenames in os.walk(path) if len(filenames)]"
   ]
  },
  {
   "cell_type": "code",
   "execution_count": 138,
   "metadata": {},
   "outputs": [],
   "source": [
    "img_path_list = np.array([element for sous_liste in img_path_list for element in sous_liste])"
   ]
  },
  {
   "cell_type": "code",
   "execution_count": 140,
   "metadata": {},
   "outputs": [],
   "source": [
    "img_array = np.array([np.array(Image.open(str(img_path[0] + \"/\" + img_path[1]), \"r\")) for img_path in img_path_list])"
   ]
  },
  {
   "cell_type": "code",
   "execution_count": 143,
   "metadata": {},
   "outputs": [],
   "source": [
    "img_back_removed = [remove_back(img, 5000, 1, 10) for img in img_array]"
   ]
  },
  {
   "cell_type": "code",
   "execution_count": null,
   "metadata": {},
   "outputs": [],
   "source": [
    "img_back_removed_IMG = [Image.fromarray(img_array) for img_array in img_back_removed]"
   ]
  },
  {
   "cell_type": "code",
   "execution_count": 160,
   "metadata": {},
   "outputs": [],
   "source": [
    "makedir = [os.makedirs(\"result/\" + path[2], exist_ok=True) for path in img_path_list]\n",
    "save = [img.save(\"result/\" + path[2] + \"/\" + path[1]) for path, img in zip(img_path_list, img_back_removed_IMG)]"
   ]
  },
  {
   "cell_type": "code",
   "execution_count": null,
   "metadata": {},
   "outputs": [],
   "source": []
  }
 ],
 "metadata": {
  "kernelspec": {
   "display_name": "Python 3",
   "language": "python",
   "name": "python3"
  },
  "language_info": {
   "codemirror_mode": {
    "name": "ipython",
    "version": 3
   },
   "file_extension": ".py",
   "mimetype": "text/x-python",
   "name": "python",
   "nbconvert_exporter": "python",
   "pygments_lexer": "ipython3",
   "version": "3.10.13"
  }
 },
 "nbformat": 4,
 "nbformat_minor": 2
}
